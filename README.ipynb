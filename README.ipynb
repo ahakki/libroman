{
 "cells": [
  {
   "cell_type": "code",
   "execution_count": 1,
   "metadata": {
    "collapsed": false
   },
   "outputs": [
    {
     "data": {
      "text/html": [
       "<style>/* Styles used for the Hoogle display in the pager */\n",
       ".hoogle-doc {\n",
       "display: block;\n",
       "padding-bottom: 1.3em;\n",
       "padding-left: 0.4em;\n",
       "}\n",
       ".hoogle-code {\n",
       "display: block;\n",
       "font-family: monospace;\n",
       "white-space: pre;\n",
       "}\n",
       ".hoogle-text {\n",
       "display: block;\n",
       "}\n",
       ".hoogle-name {\n",
       "color: green;\n",
       "font-weight: bold;\n",
       "}\n",
       ".hoogle-head {\n",
       "font-weight: bold;\n",
       "}\n",
       ".hoogle-sub {\n",
       "display: block;\n",
       "margin-left: 0.4em;\n",
       "}\n",
       ".hoogle-package {\n",
       "font-weight: bold;\n",
       "font-style: italic;\n",
       "}\n",
       ".hoogle-module {\n",
       "font-weight: bold;\n",
       "}\n",
       ".hoogle-class {\n",
       "font-weight: bold;\n",
       "}\n",
       ".get-type {\n",
       "color: green;\n",
       "font-weight: bold;\n",
       "font-family: monospace;\n",
       "display: block;\n",
       "white-space: pre-wrap;\n",
       "}\n",
       ".show-type {\n",
       "color: green;\n",
       "font-weight: bold;\n",
       "font-family: monospace;\n",
       "margin-left: 1em;\n",
       "}\n",
       ".mono {\n",
       "font-family: monospace;\n",
       "display: block;\n",
       "}\n",
       ".err-msg {\n",
       "color: red;\n",
       "font-style: italic;\n",
       "font-family: monospace;\n",
       "white-space: pre;\n",
       "display: block;\n",
       "}\n",
       "#unshowable {\n",
       "color: red;\n",
       "font-weight: bold;\n",
       "}\n",
       ".err-msg.in.collapse {\n",
       "padding-top: 0.7em;\n",
       "}\n",
       ".highlight-code {\n",
       "white-space: pre;\n",
       "font-family: monospace;\n",
       "}\n",
       ".suggestion-warning { \n",
       "font-weight: bold;\n",
       "color: rgb(200, 130, 0);\n",
       "}\n",
       ".suggestion-error { \n",
       "font-weight: bold;\n",
       "color: red;\n",
       "}\n",
       ".suggestion-name {\n",
       "font-weight: bold;\n",
       "}\n",
       "</style><span class='err-msg'>Failed to load module Data.Roman.Tutorial: Could not find module `Data.Roman'</span>"
      ],
      "text/plain": [
       "Failed to load module Data.Roman.Tutorial: Could not find module `Data.Roman'\n",
       "Use -v to see a list of the files searched for."
      ]
     },
     "metadata": {},
     "output_type": "display_data"
    }
   ],
   "source": [
    "module Data.Roman.Tutorial where\n",
    "import Data.Roman"
   ]
  },
  {
   "cell_type": "markdown",
   "metadata": {},
   "source": [
    "Tutorial for libroman\n",
    "=====================\n",
    "\n",
    "libroman lets you use roman numerals in Haskell. They support basic math and\n",
    "conversion to and from strings.\n",
    "This Tutorial is a literate Haskell file so if you want to play along with the\n",
    "Tutorial while we do this you can simply boot up ghci and load this module with\n",
    "`ghci> :l Data.Roman.Tutorial`"
   ]
  },
  {
   "cell_type": "markdown",
   "metadata": {},
   "source": [
    "Type Class Roman\n",
    "----------------\n",
    "\n",
    "The Module `Data.Roman` exports the type class **`Roman`**. Which has a single\n",
    "method `fromRoman` to convert from a `Roman` value to any `Integral` value.\n",
    "\n",
    "There are two data types that implement this type class:\n",
    "\n",
    "- `RomanSymbol`: represents the symbols that make up roman numerals\n",
    "- `RomanNumeral`: represents the combination of these symbols.\n",
    "\n",
    "The Data Type `RomanSymbol` is a simple ADT that has the following Constructors:\n",
    "`Nulla | I | V | X | L | C | D | M` where `Nulla` represents zero.\n",
    "\n",
    "`RomanNumeral` is a type synonym for lists of `RomanSymbol`s ( as in\n",
    "`[RomanSymbol]` ). This data type can be used to represent any combination\n",
    "of RomanSymbol ( even if it does not follow the classical rules ), and by\n",
    "extension the numeric values they represent.\n",
    "\n",
    "For the rest of this tutorial we will be working with `RomanNumeral`\n"
   ]
  },
  {
   "cell_type": "markdown",
   "metadata": {},
   "source": [
    "Data Type RomanNumeral\n",
    "----------------------\n",
    "\n",
    "Besides the aforementioned instance for `Roman`, `RomanNumeral` is also a\n",
    "member of a whole host of other type classes.\n",
    "\n",
    "- `Eq`\n",
    "- `Ord`\n",
    "- `Enum`\n",
    "- `Show`\n",
    "- `Read`\n",
    "- `Num`\n",
    "- `Real`\n",
    "- `Integral`\n",
    "\n",
    "Because a numeric literal `a` is syntactic sugar for `fromInteger a` the\n",
    "easiest way to declare a RomanNumeral value is like this:\n"
   ]
  },
  {
   "cell_type": "code",
   "execution_count": null,
   "metadata": {
    "collapsed": true
   },
   "outputs": [],
   "source": [
    "a = 12 :: RomanNumeral\n",
    "\n",
    "b :: RomanNumeral\n",
    "b = 273"
   ]
  },
  {
   "cell_type": "markdown",
   "metadata": {},
   "source": [
    "You can also create RomanNumerals manually using List Syntax. If, for instance,\n",
    "you want the number 4 represented as IIII, you could just do this."
   ]
  },
  {
   "cell_type": "code",
   "execution_count": 4,
   "metadata": {
    "collapsed": false
   },
   "outputs": [
    {
     "data": {
      "text/html": [
       "<style>/* Styles used for the Hoogle display in the pager */\n",
       ".hoogle-doc {\n",
       "display: block;\n",
       "padding-bottom: 1.3em;\n",
       "padding-left: 0.4em;\n",
       "}\n",
       ".hoogle-code {\n",
       "display: block;\n",
       "font-family: monospace;\n",
       "white-space: pre;\n",
       "}\n",
       ".hoogle-text {\n",
       "display: block;\n",
       "}\n",
       ".hoogle-name {\n",
       "color: green;\n",
       "font-weight: bold;\n",
       "}\n",
       ".hoogle-head {\n",
       "font-weight: bold;\n",
       "}\n",
       ".hoogle-sub {\n",
       "display: block;\n",
       "margin-left: 0.4em;\n",
       "}\n",
       ".hoogle-package {\n",
       "font-weight: bold;\n",
       "font-style: italic;\n",
       "}\n",
       ".hoogle-module {\n",
       "font-weight: bold;\n",
       "}\n",
       ".hoogle-class {\n",
       "font-weight: bold;\n",
       "}\n",
       ".get-type {\n",
       "color: green;\n",
       "font-weight: bold;\n",
       "font-family: monospace;\n",
       "display: block;\n",
       "white-space: pre-wrap;\n",
       "}\n",
       ".show-type {\n",
       "color: green;\n",
       "font-weight: bold;\n",
       "font-family: monospace;\n",
       "margin-left: 1em;\n",
       "}\n",
       ".mono {\n",
       "font-family: monospace;\n",
       "display: block;\n",
       "}\n",
       ".err-msg {\n",
       "color: red;\n",
       "font-style: italic;\n",
       "font-family: monospace;\n",
       "white-space: pre;\n",
       "display: block;\n",
       "}\n",
       "#unshowable {\n",
       "color: red;\n",
       "font-weight: bold;\n",
       "}\n",
       ".err-msg.in.collapse {\n",
       "padding-top: 0.7em;\n",
       "}\n",
       ".highlight-code {\n",
       "white-space: pre;\n",
       "font-family: monospace;\n",
       "}\n",
       ".suggestion-warning { \n",
       "font-weight: bold;\n",
       "color: rgb(200, 130, 0);\n",
       "}\n",
       ".suggestion-error { \n",
       "font-weight: bold;\n",
       "color: red;\n",
       "}\n",
       ".suggestion-name {\n",
       "font-weight: bold;\n",
       "}\n",
       "</style><span class='err-msg'>Not in scope: data constructor `I'<br/><br/><br/>Not in scope: data constructor `I'<br/><br/><br/>Not in scope: data constructor `I'<br/><br/><br/>Not in scope: data constructor `I'</span>"
      ],
      "text/plain": [
       "Not in scope: data constructor `I'\n",
       "\n",
       "\n",
       "Not in scope: data constructor `I'\n",
       "\n",
       "\n",
       "Not in scope: data constructor `I'\n",
       "\n",
       "\n",
       "Not in scope: data constructor `I'"
      ]
     },
     "metadata": {},
     "output_type": "display_data"
    }
   ],
   "source": [
    "c = [I, I, I, I]"
   ]
  },
  {
   "cell_type": "markdown",
   "metadata": {},
   "source": [
    "Mathy Stuff with RomanNumeral\n",
    "-----------------------------\n",
    "\n",
    "Once you have some Values you can get to work. The type class `Num` enables you\n",
    "to do basic math:"
   ]
  },
  {
   "cell_type": "code",
   "execution_count": null,
   "metadata": {
    "collapsed": true
   },
   "outputs": [],
   "source": [
    "d = a + b       -- CCLXXXV\n",
    "e = b - c       -- CCLXVI\n",
    "f = e * d"
   ]
  },
  {
   "cell_type": "markdown",
   "metadata": {},
   "source": [
    "Check the result of f by yourself: `ghci> f`\n",
    "\n",
    "You will see that roman numerals are not really suited for big numbers.\n",
    "Try to keep your math under 10'000 or prepare for lots or `M`s\n",
    "\n",
    "Roman numerals can't represent fractional values so you can't use `(\\)`, but\n",
    "you can use the methods of the `Integral` type class to do Integer division\n",
    "and so on."
   ]
  },
  {
   "cell_type": "code",
   "execution_count": 5,
   "metadata": {
    "collapsed": false
   },
   "outputs": [
    {
     "data": {
      "text/html": [
       "<style>/* Styles used for the Hoogle display in the pager */\n",
       ".hoogle-doc {\n",
       "display: block;\n",
       "padding-bottom: 1.3em;\n",
       "padding-left: 0.4em;\n",
       "}\n",
       ".hoogle-code {\n",
       "display: block;\n",
       "font-family: monospace;\n",
       "white-space: pre;\n",
       "}\n",
       ".hoogle-text {\n",
       "display: block;\n",
       "}\n",
       ".hoogle-name {\n",
       "color: green;\n",
       "font-weight: bold;\n",
       "}\n",
       ".hoogle-head {\n",
       "font-weight: bold;\n",
       "}\n",
       ".hoogle-sub {\n",
       "display: block;\n",
       "margin-left: 0.4em;\n",
       "}\n",
       ".hoogle-package {\n",
       "font-weight: bold;\n",
       "font-style: italic;\n",
       "}\n",
       ".hoogle-module {\n",
       "font-weight: bold;\n",
       "}\n",
       ".hoogle-class {\n",
       "font-weight: bold;\n",
       "}\n",
       ".get-type {\n",
       "color: green;\n",
       "font-weight: bold;\n",
       "font-family: monospace;\n",
       "display: block;\n",
       "white-space: pre-wrap;\n",
       "}\n",
       ".show-type {\n",
       "color: green;\n",
       "font-weight: bold;\n",
       "font-family: monospace;\n",
       "margin-left: 1em;\n",
       "}\n",
       ".mono {\n",
       "font-family: monospace;\n",
       "display: block;\n",
       "}\n",
       ".err-msg {\n",
       "color: red;\n",
       "font-style: italic;\n",
       "font-family: monospace;\n",
       "white-space: pre;\n",
       "display: block;\n",
       "}\n",
       "#unshowable {\n",
       "color: red;\n",
       "font-weight: bold;\n",
       "}\n",
       ".err-msg.in.collapse {\n",
       "padding-top: 0.7em;\n",
       "}\n",
       ".highlight-code {\n",
       "white-space: pre;\n",
       "font-family: monospace;\n",
       "}\n",
       ".suggestion-warning { \n",
       "font-weight: bold;\n",
       "color: rgb(200, 130, 0);\n",
       "}\n",
       ".suggestion-error { \n",
       "font-weight: bold;\n",
       "color: red;\n",
       "}\n",
       ".suggestion-name {\n",
       "font-weight: bold;\n",
       "}\n",
       "</style><span class='err-msg'>Not in scope: `f'<br/><br/><br/>Not in scope: `d'</span>"
      ],
      "text/plain": [
       "Not in scope: `f'\n",
       "\n",
       "\n",
       "Not in scope: `d'"
      ]
     },
     "metadata": {},
     "output_type": "display_data"
    }
   ],
   "source": [
    "g = div f d     -- CCLXV"
   ]
  },
  {
   "cell_type": "markdown",
   "metadata": {},
   "source": [
    "Just as with any other enumerable value, you can declare ranges:"
   ]
  },
  {
   "cell_type": "code",
   "execution_count": null,
   "metadata": {
    "collapsed": true
   },
   "outputs": [],
   "source": [
    "r  :: [RomanNumeral]\n",
    "r   = [1..12]\n",
    "r'  = [a..b]\n",
    "r'' = [[C, X, I]..[C, C]]"
   ]
  },
  {
   "cell_type": "markdown",
   "metadata": {},
   "source": [
    "**Beware:** The Romans didn't have a concept of negative numbers, so\n",
    "`RomanNumeral` can't represent negative numbers. This means that the\n",
    "function `negate` will cause an *Underflow Exception*. Same if you\n",
    "subtract a larger RomanNumeral from a smaller one, or perform any other\n",
    "operation that would create a negative value.\n",
    "\n",
    "*I don't know how to solve this problem ( apart from dependent typing :P ),\n",
    "as simply throwing an exception and crashing everything ruins part of the\n",
    "type-checked goodness we have in haskell, but returning the wrong result\n",
    "because of this seems even worse somehow.*"
   ]
  },
  {
   "cell_type": "code",
   "execution_count": null,
   "metadata": {
    "collapsed": true
   },
   "outputs": [],
   "source": [
    "baloney  = negate e          -- This throws an error if evaluated!"
   ]
  },
  {
   "cell_type": "code",
   "execution_count": null,
   "metadata": {
    "collapsed": true
   },
   "outputs": [],
   "source": [
    "Try to guess which of the next two thows an Exception, and which one doesn't"
   ]
  },
  {
   "cell_type": "code",
   "execution_count": null,
   "metadata": {
    "collapsed": true
   },
   "outputs": [],
   "source": [
    "hogwash  = a - b + b\n",
    "salami   = a + b - b"
   ]
  },
  {
   "cell_type": "markdown",
   "metadata": {},
   "source": [
    "*In a nutshell: Mathematically you can use `RomanNumeral` in basically the\n",
    "same way as any other unsigned integral value (`Word` for instance)*"
   ]
  },
  {
   "cell_type": "markdown",
   "metadata": {},
   "source": [
    "Comparison of RomanNumerals\n",
    "---------------------------\n",
    "\n",
    "And of course you can compare two `RomanNumeral`s with\n",
    "`(>=)`, `(>)`, `(==)`, `(<)` and `(<=)`\n",
    "\n",
    "**Beware:** `(==)` has a little quirk stemming from the fact that `RomanNumeral`\n",
    "enables you to represent the same numerical value in multiple ways.\n",
    "`(==)` will only return\n",
    "`True` if the representation is equal, not just the numerical value."
   ]
  },
  {
   "cell_type": "code",
   "execution_count": null,
   "metadata": {
    "collapsed": true
   },
   "outputs": [],
   "source": [
    "rep1 = [I, I, I, I]\n",
    "rep2 = [I, V]\n",
    "rep3 :: RomanNumeral\n",
    "rep3 = 4\n",
    "\n",
    "no =  rep1 == rep2        -- this will return false\n",
    "yes = rep2 == rep3        -- this will return true"
   ]
  },
  {
   "cell_type": "markdown",
   "metadata": {},
   "source": [
    "Numerical Type Converting\n",
    "-------------------------\n",
    "\n",
    "`Integral` also has a method `toInteger` which can be used to coerce your Roman\n",
    "values to `Integer`s. However the function `fromIntegral` from the Prelude is\n",
    "a lot more general, as you can convert from any `Integral` value to any other\n",
    "`Integral` value, so you can use it to both convert to and from RomanNumeral."
   ]
  },
  {
   "cell_type": "code",
   "execution_count": null,
   "metadata": {
    "collapsed": true
   },
   "outputs": [],
   "source": [
    "thisIsAnInteger = 12    -- Numeric literals default to Integer\n",
    "thisIsARoman    = 44    :: RomanNumeral\n",
    "\n",
    "h = toInteger    thisIsARoman\n",
    "\n",
    "i = fromIntegral thisIsARoman\n",
    "\n",
    "j = fromIntegral thisIsAnInteger\n",
    "\n",
    "k :: RomanNumeral\n",
    "k = fromIntegral thisIsAnInteger"
   ]
  },
  {
   "cell_type": "markdown",
   "metadata": {},
   "source": [
    "libroman is pretty good at interpreting the 'correct' numeric value for\n",
    "`RomanNumeral`s which don't follow the classic rules of writing roman\n",
    "numerals, for instance double subtraction as in XIIX, or repeating the same character more than 3 times as in IIII."
   ]
  },
  {
   "cell_type": "code",
   "execution_count": null,
   "metadata": {
    "collapsed": true
   },
   "outputs": [],
   "source": [
    "weird = [X, I, I, X]\n",
    "clock = [I, I, I, I]"
   ]
  },
  {
   "cell_type": "markdown",
   "metadata": {},
   "source": [
    "If you check these values in ghci ( using `fromIntegral` ) you will see that\n",
    "they are interpreted as `18` and `4` which is the most sensible interpretation\n",
    "(imho)\n",
    "\n",
    "You can probably guess the types of `h`, `i` and `j`, but if you are not sure\n",
    "you can check in ghci with `:t`\n"
   ]
  },
  {
   "cell_type": "markdown",
   "metadata": {},
   "source": [
    "Converting to Strings\n",
    "---------------------\n",
    "\n",
    "`RomanNumeral` implements `Read` and `Show` to convert to and from `String`\n",
    "\n",
    "`read` is case insensitive."
   ]
  },
  {
   "cell_type": "code",
   "execution_count": null,
   "metadata": {
    "collapsed": true
   },
   "outputs": [],
   "source": [
    "l = show k          -- \"XII\"\n",
    "m = read \"XXXII\"    :: RomanNumeral\n",
    "n = read \"nulla\"    :: RomanNumeral"
   ]
  }
 ],
 "metadata": {
  "kernelspec": {
   "display_name": "Haskell",
   "language": "haskell",
   "name": "haskell"
  },
  "language_info": {
   "codemirror_mode": "ihaskell",
   "file_extension": ".hs",
   "name": "haskell",
   "version": "7.10.2"
  }
 },
 "nbformat": 4,
 "nbformat_minor": 0
}
